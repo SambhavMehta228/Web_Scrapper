{
  "cells": [
    {
      "cell_type": "code",
      "execution_count": 7,
      "metadata": {
        "id": "Tk1PGbEnOEGq"
      },
      "outputs": [],
      "source": [
        "import pandas as pd\n",
        "import numpy as np\n",
        "from bs4 import BeautifulSoup as bs\n",
        "import requests\n",
        "import re"
      ]
    },
    {
      "cell_type": "code",
      "source": [
        "name=[]\n",
        "for i in range(1 , 13):\n",
        "  response = requests.get(f'https://topai.tools/next?p={i}&q=main&kw=&sort=1&sort=1' , headers={'cookies':'twk_idm_key=L5sGeUb-NUzSESGWJzhlI; TawkConnectionTime=0; twk_uuid_6400ac1a4247f20fefe3934e=%7B%22uuid%22%3A%221.70gX1ngzqf0H1tzX4ia7smQJmqsN2ytLSL1hXAoILuSlAIcZ0SK63QHTfoa6rXr52thAYfsRbYNWQPaGWUyCT2LlNGzepoFFFpsirkWUdi5Zf6wKihdE%22%2C%22version%22%3A3%2C%22domain%22%3A%22topai.tools%22%2C%22ts%22%3A1690904409611%7D'})\n",
        "  soup = bs(response.content)\n",
        "  data = soup.find_all('h5' , attrs={'class':'mt-3 mb-2 px-1'})\n",
        "  for j in data:\n",
        "    a = re.split('[>,<,\\n]' , str(j))[3]\n",
        "    a = ( a.replace(\" \",\"-\") ).lower()\n",
        "    a = (a.replace(\".\",\"-\"))\n",
        "    a = (a.replace(\"/\",\"\"))\n",
        "    a = (a.replace(\"+\",\"-\"))\n",
        "    if(\"--\" in a  or \"---\" in a):\n",
        "      print(a)\n",
        "      pass\n",
        "    else:\n",
        "      name.append(a)\n"
      ],
      "metadata": {
        "colab": {
          "base_uri": "https://localhost:8080/"
        },
        "id": "Ry5_iIGe3wea",
        "outputId": "9604c689-6a67-4dcd-915c-884fb1bff585"
      },
      "execution_count": 25,
      "outputs": [
        {
          "output_type": "stream",
          "name": "stdout",
          "text": [
            "ritebot---seo---gpt\n",
            "100--ai-prompts\n",
            "a-v--mapping\n",
            "ai-writer---spellcopy\n",
            "aiseo--aiseo-art\n",
            "amblr---ai-travel-planner\n"
          ]
        }
      ]
    },
    {
      "cell_type": "code",
      "source": [
        "len(name)"
      ],
      "metadata": {
        "colab": {
          "base_uri": "https://localhost:8080/"
        },
        "id": "_NPO738GGGmo",
        "outputId": "dfe9cb39-0750-49c6-9656-106e96fbab77"
      },
      "execution_count": 26,
      "outputs": [
        {
          "output_type": "execute_result",
          "data": {
            "text/plain": [
              "210"
            ]
          },
          "metadata": {},
          "execution_count": 26
        }
      ]
    },
    {
      "cell_type": "code",
      "execution_count": null,
      "metadata": {
        "id": "y33ElDx0Pg45"
      },
      "outputs": [],
      "source": [
        "price=[]\n",
        "what=[]\n",
        "tagged=[]\n",
        "url=[]\n",
        "tool_case=[]\n",
        "a=''\n",
        "for i in name:\n",
        "  response = requests.get('https://topai.tools/t/'+str(i))\n",
        "  url.append('https://topai.tools/t/'+str(i))\n",
        "\n",
        "  soup = bs(response.content , 'html.parser')\n",
        "\n",
        "  para = soup.find_all('p' , attrs={'class':'p-1 py-2 rounded'})\n",
        "  print(i , re.split('[\\n]', str(para)) , url)\n",
        "  try:\n",
        "    desc = re.split('[\\n]', str(para))[1]\n",
        "  except:\n",
        "    pass\n",
        "  what.append(desc)\n",
        "\n",
        "  pr = soup.find_all('span' , attrs={'class':'badge rounded bg-black text-light'})\n",
        "  try:\n",
        "    pr1 = re.split('[>,<]', str(pr))[2]\n",
        "  except:\n",
        "    pass\n",
        "  price.append(pr1)\n",
        "\n",
        "  tag = soup.find_all('span' , attrs={'class':'badge bg-black'})\n",
        "  try:\n",
        "    tags = re.split('[>,<]', str(tag))[4]\n",
        "  except:\n",
        "    pass\n",
        "  tagged.append(tags)\n",
        "\n",
        "  cases = soup.find_all('li')\n",
        "  #print(re.split('[>,<]', str(tag))[4])\n",
        "  try:\n",
        "    for i in cases:\n",
        "      if('href' in str(i) or 'class' in str(i)):\n",
        "        pass\n",
        "      else:\n",
        "        a = a + ' ' + re.split('[>,<]', str(i))[2]\n",
        "  except:\n",
        "    pass\n",
        "  tool_case.append(a)\n",
        "  a=''"
      ]
    },
    {
      "cell_type": "code",
      "source": [
        "len(price)"
      ],
      "metadata": {
        "colab": {
          "base_uri": "https://localhost:8080/"
        },
        "id": "Yz0r5dFTJQTu",
        "outputId": "d1334fed-65b2-42a9-db77-e797e712b045"
      },
      "execution_count": 31,
      "outputs": [
        {
          "output_type": "execute_result",
          "data": {
            "text/plain": [
              "210"
            ]
          },
          "metadata": {},
          "execution_count": 31
        }
      ]
    },
    {
      "cell_type": "code",
      "execution_count": 33,
      "metadata": {
        "id": "TWl82OLmrOOp"
      },
      "outputs": [],
      "source": [
        "a = zip(name , url , what , price , tagged , tool_case)"
      ]
    },
    {
      "cell_type": "code",
      "source": [
        "final_data=pd.DataFrame(a,columns=['Tool Name','Tool URL','What is' , 'Price' , 'Tag' , 'Tool_case'])"
      ],
      "metadata": {
        "id": "5FAvLiAsJ51w"
      },
      "execution_count": 34,
      "outputs": []
    },
    {
      "cell_type": "code",
      "execution_count": 35,
      "metadata": {
        "id": "ZGSMn1ner3zQ"
      },
      "outputs": [],
      "source": [
        "final_data.to_excel('Conscript.xlsx')"
      ]
    }
  ],
  "metadata": {
    "colab": {
      "provenance": []
    },
    "kernelspec": {
      "display_name": "Python 3",
      "name": "python3"
    },
    "language_info": {
      "name": "python"
    }
  },
  "nbformat": 4,
  "nbformat_minor": 0
}